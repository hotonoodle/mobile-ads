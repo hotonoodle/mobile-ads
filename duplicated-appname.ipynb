{
 "cells": [
  {
   "cell_type": "code",
   "execution_count": 57,
   "metadata": {},
   "outputs": [],
   "source": [
    "import pandas as pd\n",
    "df = pd.read_csv('googleplaystore.csv')"
   ]
  },
  {
   "cell_type": "code",
   "execution_count": 58,
   "metadata": {},
   "outputs": [
    {
     "data": {
      "text/plain": [
       "ROBLOX                                                9\n",
       "CBS Sports App - Scores, News, Stats & Watch Live     8\n",
       "ESPN                                                  7\n",
       "Duolingo: Learn Languages Free                        7\n",
       "Candy Crush Saga                                      7\n",
       "                                                     ..\n",
       "Meet U - Get Friends for Snapchat, Kik & Instagram    1\n",
       "U-Report                                              1\n",
       "U of I Community Credit Union                         1\n",
       "Waiting For U Launcher Theme                          1\n",
       "iHoroscope - 2018 Daily Horoscope & Astrology         1\n",
       "Name: App, Length: 9659, dtype: int64"
      ]
     },
     "execution_count": 58,
     "metadata": {},
     "output_type": "execute_result"
    }
   ],
   "source": [
    "df['App'].value_counts()"
   ]
  },
  {
   "cell_type": "code",
   "execution_count": 59,
   "metadata": {},
   "outputs": [
    {
     "data": {
      "text/html": [
       "<div>\n",
       "<style scoped>\n",
       "    .dataframe tbody tr th:only-of-type {\n",
       "        vertical-align: middle;\n",
       "    }\n",
       "\n",
       "    .dataframe tbody tr th {\n",
       "        vertical-align: top;\n",
       "    }\n",
       "\n",
       "    .dataframe thead th {\n",
       "        text-align: right;\n",
       "    }\n",
       "</style>\n",
       "<table border=\"1\" class=\"dataframe\">\n",
       "  <thead>\n",
       "    <tr style=\"text-align: right;\">\n",
       "      <th></th>\n",
       "      <th>App</th>\n",
       "      <th>Category</th>\n",
       "      <th>Rating</th>\n",
       "      <th>Reviews</th>\n",
       "      <th>Size</th>\n",
       "      <th>Installs</th>\n",
       "      <th>Type</th>\n",
       "      <th>Price</th>\n",
       "      <th>Content Rating</th>\n",
       "      <th>Genres</th>\n",
       "      <th>Last Updated</th>\n",
       "      <th>Current Ver</th>\n",
       "      <th>Android Ver</th>\n",
       "    </tr>\n",
       "  </thead>\n",
       "  <tbody>\n",
       "    <tr>\n",
       "      <th>2959</th>\n",
       "      <td>ESPN</td>\n",
       "      <td>SPORTS</td>\n",
       "      <td>4.2</td>\n",
       "      <td>521138</td>\n",
       "      <td>Varies with device</td>\n",
       "      <td>10,000,000+</td>\n",
       "      <td>Free</td>\n",
       "      <td>0</td>\n",
       "      <td>Everyone 10+</td>\n",
       "      <td>Sports</td>\n",
       "      <td>July 19, 2018</td>\n",
       "      <td>Varies with device</td>\n",
       "      <td>5.0 and up</td>\n",
       "    </tr>\n",
       "    <tr>\n",
       "      <th>3010</th>\n",
       "      <td>ESPN</td>\n",
       "      <td>SPORTS</td>\n",
       "      <td>4.2</td>\n",
       "      <td>521138</td>\n",
       "      <td>Varies with device</td>\n",
       "      <td>10,000,000+</td>\n",
       "      <td>Free</td>\n",
       "      <td>0</td>\n",
       "      <td>Everyone 10+</td>\n",
       "      <td>Sports</td>\n",
       "      <td>July 19, 2018</td>\n",
       "      <td>Varies with device</td>\n",
       "      <td>5.0 and up</td>\n",
       "    </tr>\n",
       "    <tr>\n",
       "      <th>3018</th>\n",
       "      <td>ESPN</td>\n",
       "      <td>SPORTS</td>\n",
       "      <td>4.2</td>\n",
       "      <td>521138</td>\n",
       "      <td>Varies with device</td>\n",
       "      <td>10,000,000+</td>\n",
       "      <td>Free</td>\n",
       "      <td>0</td>\n",
       "      <td>Everyone 10+</td>\n",
       "      <td>Sports</td>\n",
       "      <td>July 19, 2018</td>\n",
       "      <td>Varies with device</td>\n",
       "      <td>5.0 and up</td>\n",
       "    </tr>\n",
       "    <tr>\n",
       "      <th>3048</th>\n",
       "      <td>ESPN</td>\n",
       "      <td>SPORTS</td>\n",
       "      <td>4.2</td>\n",
       "      <td>521140</td>\n",
       "      <td>Varies with device</td>\n",
       "      <td>10,000,000+</td>\n",
       "      <td>Free</td>\n",
       "      <td>0</td>\n",
       "      <td>Everyone 10+</td>\n",
       "      <td>Sports</td>\n",
       "      <td>July 19, 2018</td>\n",
       "      <td>Varies with device</td>\n",
       "      <td>5.0 and up</td>\n",
       "    </tr>\n",
       "    <tr>\n",
       "      <th>3060</th>\n",
       "      <td>ESPN</td>\n",
       "      <td>SPORTS</td>\n",
       "      <td>4.2</td>\n",
       "      <td>521140</td>\n",
       "      <td>Varies with device</td>\n",
       "      <td>10,000,000+</td>\n",
       "      <td>Free</td>\n",
       "      <td>0</td>\n",
       "      <td>Everyone 10+</td>\n",
       "      <td>Sports</td>\n",
       "      <td>July 19, 2018</td>\n",
       "      <td>Varies with device</td>\n",
       "      <td>5.0 and up</td>\n",
       "    </tr>\n",
       "    <tr>\n",
       "      <th>3072</th>\n",
       "      <td>ESPN</td>\n",
       "      <td>SPORTS</td>\n",
       "      <td>4.2</td>\n",
       "      <td>521140</td>\n",
       "      <td>Varies with device</td>\n",
       "      <td>10,000,000+</td>\n",
       "      <td>Free</td>\n",
       "      <td>0</td>\n",
       "      <td>Everyone 10+</td>\n",
       "      <td>Sports</td>\n",
       "      <td>July 19, 2018</td>\n",
       "      <td>Varies with device</td>\n",
       "      <td>5.0 and up</td>\n",
       "    </tr>\n",
       "    <tr>\n",
       "      <th>4069</th>\n",
       "      <td>ESPN</td>\n",
       "      <td>SPORTS</td>\n",
       "      <td>4.2</td>\n",
       "      <td>521081</td>\n",
       "      <td>Varies with device</td>\n",
       "      <td>10,000,000+</td>\n",
       "      <td>Free</td>\n",
       "      <td>0</td>\n",
       "      <td>Everyone 10+</td>\n",
       "      <td>Sports</td>\n",
       "      <td>July 19, 2018</td>\n",
       "      <td>Varies with device</td>\n",
       "      <td>5.0 and up</td>\n",
       "    </tr>\n",
       "  </tbody>\n",
       "</table>\n",
       "</div>"
      ],
      "text/plain": [
       "       App Category  Rating Reviews                Size     Installs  Type  \\\n",
       "2959  ESPN   SPORTS     4.2  521138  Varies with device  10,000,000+  Free   \n",
       "3010  ESPN   SPORTS     4.2  521138  Varies with device  10,000,000+  Free   \n",
       "3018  ESPN   SPORTS     4.2  521138  Varies with device  10,000,000+  Free   \n",
       "3048  ESPN   SPORTS     4.2  521140  Varies with device  10,000,000+  Free   \n",
       "3060  ESPN   SPORTS     4.2  521140  Varies with device  10,000,000+  Free   \n",
       "3072  ESPN   SPORTS     4.2  521140  Varies with device  10,000,000+  Free   \n",
       "4069  ESPN   SPORTS     4.2  521081  Varies with device  10,000,000+  Free   \n",
       "\n",
       "     Price Content Rating  Genres   Last Updated         Current Ver  \\\n",
       "2959     0   Everyone 10+  Sports  July 19, 2018  Varies with device   \n",
       "3010     0   Everyone 10+  Sports  July 19, 2018  Varies with device   \n",
       "3018     0   Everyone 10+  Sports  July 19, 2018  Varies with device   \n",
       "3048     0   Everyone 10+  Sports  July 19, 2018  Varies with device   \n",
       "3060     0   Everyone 10+  Sports  July 19, 2018  Varies with device   \n",
       "3072     0   Everyone 10+  Sports  July 19, 2018  Varies with device   \n",
       "4069     0   Everyone 10+  Sports  July 19, 2018  Varies with device   \n",
       "\n",
       "     Android Ver  \n",
       "2959  5.0 and up  \n",
       "3010  5.0 and up  \n",
       "3018  5.0 and up  \n",
       "3048  5.0 and up  \n",
       "3060  5.0 and up  \n",
       "3072  5.0 and up  \n",
       "4069  5.0 and up  "
      ]
     },
     "execution_count": 59,
     "metadata": {},
     "output_type": "execute_result"
    }
   ],
   "source": [
    "df[df['App']=='ESPN']"
   ]
  },
  {
   "cell_type": "code",
   "execution_count": 61,
   "metadata": {},
   "outputs": [],
   "source": [
    "#remove duplicates\n",
    "df = df.drop_duplicates(subset='App', keep=\"first\")"
   ]
  },
  {
   "cell_type": "code",
   "execution_count": 62,
   "metadata": {},
   "outputs": [
    {
     "data": {
      "text/plain": [
       "False"
      ]
     },
     "execution_count": 62,
     "metadata": {},
     "output_type": "execute_result"
    }
   ],
   "source": [
    "df.duplicated().any()"
   ]
  },
  {
   "cell_type": "code",
   "execution_count": 63,
   "metadata": {},
   "outputs": [
    {
     "data": {
      "text/plain": [
       "Photo Editor & Candy Camera & Grid & ScrapBook    1\n",
       "Tic Tac CK                                        1\n",
       "INFAMY RO                                         1\n",
       "CK Call NEW                                       1\n",
       "Ck Coif                                           1\n",
       "                                                 ..\n",
       "Bike Race Free - Top Motorcycle Racing Games      1\n",
       "Dance School Stories - Dance Dreams Come True     1\n",
       "3D Bowling                                        1\n",
       "Mind Games Pro                                    1\n",
       "iHoroscope - 2018 Daily Horoscope & Astrology     1\n",
       "Name: App, Length: 9659, dtype: int64"
      ]
     },
     "execution_count": 63,
     "metadata": {},
     "output_type": "execute_result"
    }
   ],
   "source": [
    "df['App'].value_counts()"
   ]
  },
  {
   "cell_type": "code",
   "execution_count": 64,
   "metadata": {},
   "outputs": [],
   "source": [
    "apps_df = df['App']"
   ]
  },
  {
   "cell_type": "code",
   "execution_count": 65,
   "metadata": {},
   "outputs": [
    {
     "data": {
      "text/plain": [
       "0           Photo Editor & Candy Camera & Grid & ScrapBook\n",
       "1                                      Coloring book moana\n",
       "2        U Launcher Lite – FREE Live Cool Themes, Hide ...\n",
       "3                                    Sketch - Draw & Paint\n",
       "4                    Pixel Draw - Number Art Coloring Book\n",
       "                               ...                        \n",
       "10835                                     Sya9a Maroc - FR\n",
       "10836                     Fr. Mike Schmitz Audio Teachings\n",
       "10837                               Parkinson Exercices FR\n",
       "10838                        The SCP Foundation DB fr nn5n\n",
       "10839        iHoroscope - 2018 Daily Horoscope & Astrology\n",
       "Name: App, Length: 9659, dtype: object"
      ]
     },
     "execution_count": 65,
     "metadata": {},
     "output_type": "execute_result"
    }
   ],
   "source": [
    "apps_df"
   ]
  },
  {
   "cell_type": "code",
   "execution_count": 69,
   "metadata": {},
   "outputs": [],
   "source": [
    "apps_df.to_csv('mobile-apps.csv', index=False, encoding='utf-8')"
   ]
  }
 ],
 "metadata": {
  "interpreter": {
   "hash": "be4364073ace953c270abc33448cbabbcb3467413c1d4891eebcccb6dbb65332"
  },
  "kernelspec": {
   "display_name": "Python 3.9.7 ('base')",
   "language": "python",
   "name": "python3"
  },
  "language_info": {
   "codemirror_mode": {
    "name": "ipython",
    "version": 3
   },
   "file_extension": ".py",
   "mimetype": "text/x-python",
   "name": "python",
   "nbconvert_exporter": "python",
   "pygments_lexer": "ipython3",
   "version": "3.9.7"
  },
  "orig_nbformat": 4
 },
 "nbformat": 4,
 "nbformat_minor": 2
}
